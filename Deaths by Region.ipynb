{
 "cells": [
  {
   "cell_type": "markdown",
   "metadata": {},
   "source": [
    "# Deaths by Region"
   ]
  },
  {
   "cell_type": "markdown",
   "metadata": {},
   "source": [
    "**Data Cleaning, Sarah Scholz**"
   ]
  },
  {
   "cell_type": "code",
   "execution_count": 1,
   "metadata": {},
   "outputs": [],
   "source": [
    "#import relevant Python packages\n",
    "import pandas as pd\n",
    "import numpy as np\n",
    "import seaborn as sns\n",
    "import matplotlib.pyplot as plt"
   ]
  },
  {
   "cell_type": "code",
   "execution_count": 2,
   "metadata": {},
   "outputs": [],
   "source": [
    "#read in dataset\n",
    "df = pd.read_csv(\"data\\Deaths_Region_2007-2020.csv\")"
   ]
  },
  {
   "cell_type": "markdown",
   "metadata": {},
   "source": [
    "## Explore Dataset"
   ]
  },
  {
   "cell_type": "markdown",
   "metadata": {},
   "source": [
    "Using the Python library Pandas, explore the dataset  to determine it's shape and areas that need attention."
   ]
  },
  {
   "cell_type": "code",
   "execution_count": 3,
   "metadata": {},
   "outputs": [
    {
     "data": {
      "text/html": [
       "<div>\n",
       "<style scoped>\n",
       "    .dataframe tbody tr th:only-of-type {\n",
       "        vertical-align: middle;\n",
       "    }\n",
       "\n",
       "    .dataframe tbody tr th {\n",
       "        vertical-align: top;\n",
       "    }\n",
       "\n",
       "    .dataframe thead th {\n",
       "        text-align: right;\n",
       "    }\n",
       "</style>\n",
       "<table border=\"1\" class=\"dataframe\">\n",
       "  <thead>\n",
       "    <tr style=\"text-align: right;\">\n",
       "      <th></th>\n",
       "      <th>Statistic</th>\n",
       "      <th>Year</th>\n",
       "      <th>Area of Residence</th>\n",
       "      <th>Sex</th>\n",
       "      <th>Age at Death</th>\n",
       "      <th>UNIT</th>\n",
       "      <th>VALUE</th>\n",
       "    </tr>\n",
       "  </thead>\n",
       "  <tbody>\n",
       "    <tr>\n",
       "      <td>0</td>\n",
       "      <td>Deaths Occurring</td>\n",
       "      <td>2007</td>\n",
       "      <td>ROI Total</td>\n",
       "      <td>Both sexes</td>\n",
       "      <td>Under 1 year</td>\n",
       "      <td>Number</td>\n",
       "      <td>230.0</td>\n",
       "    </tr>\n",
       "    <tr>\n",
       "      <td>1</td>\n",
       "      <td>Deaths Occurring</td>\n",
       "      <td>2007</td>\n",
       "      <td>ROI Total</td>\n",
       "      <td>Both sexes</td>\n",
       "      <td>1 - 4 years</td>\n",
       "      <td>Number</td>\n",
       "      <td>54.0</td>\n",
       "    </tr>\n",
       "    <tr>\n",
       "      <td>2</td>\n",
       "      <td>Deaths Occurring</td>\n",
       "      <td>2007</td>\n",
       "      <td>ROI Total</td>\n",
       "      <td>Both sexes</td>\n",
       "      <td>5 - 9 years</td>\n",
       "      <td>Number</td>\n",
       "      <td>17.0</td>\n",
       "    </tr>\n",
       "    <tr>\n",
       "      <td>3</td>\n",
       "      <td>Deaths Occurring</td>\n",
       "      <td>2007</td>\n",
       "      <td>ROI Total</td>\n",
       "      <td>Both sexes</td>\n",
       "      <td>10 - 14 years</td>\n",
       "      <td>Number</td>\n",
       "      <td>50.0</td>\n",
       "    </tr>\n",
       "    <tr>\n",
       "      <td>4</td>\n",
       "      <td>Deaths Occurring</td>\n",
       "      <td>2007</td>\n",
       "      <td>ROI Total</td>\n",
       "      <td>Both sexes</td>\n",
       "      <td>15 - 19 years</td>\n",
       "      <td>Number</td>\n",
       "      <td>149.0</td>\n",
       "    </tr>\n",
       "  </tbody>\n",
       "</table>\n",
       "</div>"
      ],
      "text/plain": [
       "          Statistic  Year Area of Residence         Sex   Age at Death  \\\n",
       "0  Deaths Occurring  2007         ROI Total  Both sexes   Under 1 year   \n",
       "1  Deaths Occurring  2007         ROI Total  Both sexes    1 - 4 years   \n",
       "2  Deaths Occurring  2007         ROI Total  Both sexes    5 - 9 years   \n",
       "3  Deaths Occurring  2007         ROI Total  Both sexes  10 - 14 years   \n",
       "4  Deaths Occurring  2007         ROI Total  Both sexes  15 - 19 years   \n",
       "\n",
       "     UNIT  VALUE  \n",
       "0  Number  230.0  \n",
       "1  Number   54.0  \n",
       "2  Number   17.0  \n",
       "3  Number   50.0  \n",
       "4  Number  149.0  "
      ]
     },
     "execution_count": 3,
     "metadata": {},
     "output_type": "execute_result"
    }
   ],
   "source": [
    "df.head(5)"
   ]
  },
  {
   "cell_type": "code",
   "execution_count": 4,
   "metadata": {},
   "outputs": [
    {
     "data": {
      "text/html": [
       "<div>\n",
       "<style scoped>\n",
       "    .dataframe tbody tr th:only-of-type {\n",
       "        vertical-align: middle;\n",
       "    }\n",
       "\n",
       "    .dataframe tbody tr th {\n",
       "        vertical-align: top;\n",
       "    }\n",
       "\n",
       "    .dataframe thead th {\n",
       "        text-align: right;\n",
       "    }\n",
       "</style>\n",
       "<table border=\"1\" class=\"dataframe\">\n",
       "  <thead>\n",
       "    <tr style=\"text-align: right;\">\n",
       "      <th></th>\n",
       "      <th>Statistic</th>\n",
       "      <th>Year</th>\n",
       "      <th>Area of Residence</th>\n",
       "      <th>Sex</th>\n",
       "      <th>Age at Death</th>\n",
       "      <th>UNIT</th>\n",
       "      <th>VALUE</th>\n",
       "    </tr>\n",
       "  </thead>\n",
       "  <tbody>\n",
       "    <tr>\n",
       "      <td>123475</td>\n",
       "      <td>Deaths Occurring</td>\n",
       "      <td>2020</td>\n",
       "      <td>Outside the ROI Total</td>\n",
       "      <td>Female</td>\n",
       "      <td>70 - 74 years</td>\n",
       "      <td>Number</td>\n",
       "      <td>NaN</td>\n",
       "    </tr>\n",
       "    <tr>\n",
       "      <td>123476</td>\n",
       "      <td>Deaths Occurring</td>\n",
       "      <td>2020</td>\n",
       "      <td>Outside the ROI Total</td>\n",
       "      <td>Female</td>\n",
       "      <td>75 - 79 years</td>\n",
       "      <td>Number</td>\n",
       "      <td>NaN</td>\n",
       "    </tr>\n",
       "    <tr>\n",
       "      <td>123477</td>\n",
       "      <td>Deaths Occurring</td>\n",
       "      <td>2020</td>\n",
       "      <td>Outside the ROI Total</td>\n",
       "      <td>Female</td>\n",
       "      <td>80 - 84 years</td>\n",
       "      <td>Number</td>\n",
       "      <td>NaN</td>\n",
       "    </tr>\n",
       "    <tr>\n",
       "      <td>123478</td>\n",
       "      <td>Deaths Occurring</td>\n",
       "      <td>2020</td>\n",
       "      <td>Outside the ROI Total</td>\n",
       "      <td>Female</td>\n",
       "      <td>85 years and over</td>\n",
       "      <td>Number</td>\n",
       "      <td>NaN</td>\n",
       "    </tr>\n",
       "    <tr>\n",
       "      <td>123479</td>\n",
       "      <td>Deaths Occurring</td>\n",
       "      <td>2020</td>\n",
       "      <td>Outside the ROI Total</td>\n",
       "      <td>Female</td>\n",
       "      <td>All ages</td>\n",
       "      <td>Number</td>\n",
       "      <td>NaN</td>\n",
       "    </tr>\n",
       "  </tbody>\n",
       "</table>\n",
       "</div>"
      ],
      "text/plain": [
       "               Statistic  Year      Area of Residence     Sex  \\\n",
       "123475  Deaths Occurring  2020  Outside the ROI Total  Female   \n",
       "123476  Deaths Occurring  2020  Outside the ROI Total  Female   \n",
       "123477  Deaths Occurring  2020  Outside the ROI Total  Female   \n",
       "123478  Deaths Occurring  2020  Outside the ROI Total  Female   \n",
       "123479  Deaths Occurring  2020  Outside the ROI Total  Female   \n",
       "\n",
       "             Age at Death    UNIT  VALUE  \n",
       "123475      70 - 74 years  Number    NaN  \n",
       "123476      75 - 79 years  Number    NaN  \n",
       "123477      80 - 84 years  Number    NaN  \n",
       "123478  85 years and over  Number    NaN  \n",
       "123479           All ages  Number    NaN  "
      ]
     },
     "execution_count": 4,
     "metadata": {},
     "output_type": "execute_result"
    }
   ],
   "source": [
    "df.tail(5) "
   ]
  },
  {
   "cell_type": "code",
   "execution_count": 5,
   "metadata": {},
   "outputs": [
    {
     "data": {
      "text/plain": [
       "Statistic             object\n",
       "Year                   int64\n",
       "Area of Residence     object\n",
       "Sex                   object\n",
       "Age at Death          object\n",
       "UNIT                  object\n",
       "VALUE                float64\n",
       "dtype: object"
      ]
     },
     "execution_count": 5,
     "metadata": {},
     "output_type": "execute_result"
    }
   ],
   "source": [
    "df.dtypes"
   ]
  },
  {
   "cell_type": "code",
   "execution_count": 6,
   "metadata": {},
   "outputs": [
    {
     "data": {
      "text/plain": [
       "Statistic               1\n",
       "Year                   14\n",
       "Area of Residence     147\n",
       "Sex                     3\n",
       "Age at Death           20\n",
       "UNIT                    1\n",
       "VALUE                1661\n",
       "dtype: int64"
      ]
     },
     "execution_count": 6,
     "metadata": {},
     "output_type": "execute_result"
    }
   ],
   "source": [
    "df.nunique()"
   ]
  },
  {
   "cell_type": "markdown",
   "metadata": {},
   "source": [
    "Columns Statistic and Unit are not needed for analysis. They have the same value for all rows and thus unnecessarily clutter the dataframe. "
   ]
  },
  {
   "cell_type": "code",
   "execution_count": 7,
   "metadata": {},
   "outputs": [
    {
     "data": {
      "text/html": [
       "<div>\n",
       "<style scoped>\n",
       "    .dataframe tbody tr th:only-of-type {\n",
       "        vertical-align: middle;\n",
       "    }\n",
       "\n",
       "    .dataframe tbody tr th {\n",
       "        vertical-align: top;\n",
       "    }\n",
       "\n",
       "    .dataframe thead th {\n",
       "        text-align: right;\n",
       "    }\n",
       "</style>\n",
       "<table border=\"1\" class=\"dataframe\">\n",
       "  <thead>\n",
       "    <tr style=\"text-align: right;\">\n",
       "      <th></th>\n",
       "      <th>Year</th>\n",
       "      <th>Area of Residence</th>\n",
       "      <th>Sex</th>\n",
       "      <th>Age at Death</th>\n",
       "      <th>VALUE</th>\n",
       "    </tr>\n",
       "  </thead>\n",
       "  <tbody>\n",
       "    <tr>\n",
       "      <td>0</td>\n",
       "      <td>2007</td>\n",
       "      <td>ROI Total</td>\n",
       "      <td>Both sexes</td>\n",
       "      <td>Under 1 year</td>\n",
       "      <td>230.0</td>\n",
       "    </tr>\n",
       "    <tr>\n",
       "      <td>1</td>\n",
       "      <td>2007</td>\n",
       "      <td>ROI Total</td>\n",
       "      <td>Both sexes</td>\n",
       "      <td>1 - 4 years</td>\n",
       "      <td>54.0</td>\n",
       "    </tr>\n",
       "    <tr>\n",
       "      <td>2</td>\n",
       "      <td>2007</td>\n",
       "      <td>ROI Total</td>\n",
       "      <td>Both sexes</td>\n",
       "      <td>5 - 9 years</td>\n",
       "      <td>17.0</td>\n",
       "    </tr>\n",
       "    <tr>\n",
       "      <td>3</td>\n",
       "      <td>2007</td>\n",
       "      <td>ROI Total</td>\n",
       "      <td>Both sexes</td>\n",
       "      <td>10 - 14 years</td>\n",
       "      <td>50.0</td>\n",
       "    </tr>\n",
       "    <tr>\n",
       "      <td>4</td>\n",
       "      <td>2007</td>\n",
       "      <td>ROI Total</td>\n",
       "      <td>Both sexes</td>\n",
       "      <td>15 - 19 years</td>\n",
       "      <td>149.0</td>\n",
       "    </tr>\n",
       "  </tbody>\n",
       "</table>\n",
       "</div>"
      ],
      "text/plain": [
       "   Year Area of Residence         Sex   Age at Death  VALUE\n",
       "0  2007         ROI Total  Both sexes   Under 1 year  230.0\n",
       "1  2007         ROI Total  Both sexes    1 - 4 years   54.0\n",
       "2  2007         ROI Total  Both sexes    5 - 9 years   17.0\n",
       "3  2007         ROI Total  Both sexes  10 - 14 years   50.0\n",
       "4  2007         ROI Total  Both sexes  15 - 19 years  149.0"
      ]
     },
     "execution_count": 7,
     "metadata": {},
     "output_type": "execute_result"
    }
   ],
   "source": [
    "df = df.drop([\"UNIT\", \"Statistic\"], axis=1)\n",
    "df.head(5)"
   ]
  },
  {
   "cell_type": "code",
   "execution_count": 8,
   "metadata": {},
   "outputs": [
    {
     "data": {
      "text/html": [
       "<div>\n",
       "<style scoped>\n",
       "    .dataframe tbody tr th:only-of-type {\n",
       "        vertical-align: middle;\n",
       "    }\n",
       "\n",
       "    .dataframe tbody tr th {\n",
       "        vertical-align: top;\n",
       "    }\n",
       "\n",
       "    .dataframe thead th {\n",
       "        text-align: right;\n",
       "    }\n",
       "</style>\n",
       "<table border=\"1\" class=\"dataframe\">\n",
       "  <thead>\n",
       "    <tr style=\"text-align: right;\">\n",
       "      <th></th>\n",
       "      <th>Year</th>\n",
       "      <th>Area_of_Residence</th>\n",
       "      <th>Sex</th>\n",
       "      <th>Age_at_Death</th>\n",
       "      <th>VALUE</th>\n",
       "    </tr>\n",
       "  </thead>\n",
       "  <tbody>\n",
       "    <tr>\n",
       "      <td>0</td>\n",
       "      <td>2007</td>\n",
       "      <td>ROI Total</td>\n",
       "      <td>Both sexes</td>\n",
       "      <td>Under 1 year</td>\n",
       "      <td>230.0</td>\n",
       "    </tr>\n",
       "    <tr>\n",
       "      <td>1</td>\n",
       "      <td>2007</td>\n",
       "      <td>ROI Total</td>\n",
       "      <td>Both sexes</td>\n",
       "      <td>1 - 4 years</td>\n",
       "      <td>54.0</td>\n",
       "    </tr>\n",
       "    <tr>\n",
       "      <td>2</td>\n",
       "      <td>2007</td>\n",
       "      <td>ROI Total</td>\n",
       "      <td>Both sexes</td>\n",
       "      <td>5 - 9 years</td>\n",
       "      <td>17.0</td>\n",
       "    </tr>\n",
       "    <tr>\n",
       "      <td>3</td>\n",
       "      <td>2007</td>\n",
       "      <td>ROI Total</td>\n",
       "      <td>Both sexes</td>\n",
       "      <td>10 - 14 years</td>\n",
       "      <td>50.0</td>\n",
       "    </tr>\n",
       "    <tr>\n",
       "      <td>4</td>\n",
       "      <td>2007</td>\n",
       "      <td>ROI Total</td>\n",
       "      <td>Both sexes</td>\n",
       "      <td>15 - 19 years</td>\n",
       "      <td>149.0</td>\n",
       "    </tr>\n",
       "  </tbody>\n",
       "</table>\n",
       "</div>"
      ],
      "text/plain": [
       "   Year Area_of_Residence         Sex   Age_at_Death  VALUE\n",
       "0  2007         ROI Total  Both sexes   Under 1 year  230.0\n",
       "1  2007         ROI Total  Both sexes    1 - 4 years   54.0\n",
       "2  2007         ROI Total  Both sexes    5 - 9 years   17.0\n",
       "3  2007         ROI Total  Both sexes  10 - 14 years   50.0\n",
       "4  2007         ROI Total  Both sexes  15 - 19 years  149.0"
      ]
     },
     "execution_count": 8,
     "metadata": {},
     "output_type": "execute_result"
    }
   ],
   "source": [
    "df = df.rename(columns={\"Area of Residence\": \"Area_of_Residence\", \"Age at Death\": \"Age_at_Death\"})\n",
    "df.head(5) #rename the columns "
   ]
  },
  {
   "cell_type": "code",
   "execution_count": 9,
   "metadata": {},
   "outputs": [
    {
     "name": "stdout",
     "output_type": "stream",
     "text": [
      "There are 52331 missing values in the dataset\n"
     ]
    },
    {
     "data": {
      "text/plain": [
       "Year                 123480\n",
       "Area_of_Residence    123480\n",
       "Sex                  123480\n",
       "Age_at_Death         123480\n",
       "VALUE                 71149\n",
       "dtype: int64"
      ]
     },
     "execution_count": 9,
     "metadata": {},
     "output_type": "execute_result"
    }
   ],
   "source": [
    "# nearly half of the value column has missing values\n",
    "x = str(123480-71149)\n",
    "print('There are', x, 'missing values in the dataset')\n",
    "df.count() "
   ]
  },
  {
   "cell_type": "code",
   "execution_count": 10,
   "metadata": {},
   "outputs": [
    {
     "data": {
      "text/plain": [
       "array(['Under 1 year', '1 - 4 years', '5 - 9 years', '10 - 14 years',\n",
       "       '15 - 19 years', '20 - 24 years', '25 - 29 years', '30 - 34 years',\n",
       "       '35 - 39 years', '40 - 44 years', '45 - 49 years', '50 - 54 years',\n",
       "       '55 - 59 years', '60 - 64 years', '65 - 69 years', '70 - 74 years',\n",
       "       '75 - 79 years', '80 - 84 years', '85 years and over', 'All ages'],\n",
       "      dtype=object)"
      ]
     },
     "execution_count": 10,
     "metadata": {},
     "output_type": "execute_result"
    }
   ],
   "source": [
    "df['Age_at_Death'].unique() # Age at Death is an ordinal variable. It included a total All ages variable."
   ]
  },
  {
   "cell_type": "code",
   "execution_count": 11,
   "metadata": {
    "scrolled": true
   },
   "outputs": [
    {
     "data": {
      "text/plain": [
       "array(['ROI Total', 'Dublin City', 'Fingal', 'Balbriggan',\n",
       "       'Rest of Fingal', 'Dun Laoghaire Rathdown', 'South Dublin',\n",
       "       'Leinster', 'Wicklow', 'Arklow Town', 'Bray Town', 'Wicklow Town',\n",
       "       'Greystones', 'Rest of Wicklow', 'Carlow', 'Carlow Town',\n",
       "       'Bagenalstown (Muine Bheag)', 'Rest of Co. Carlow', 'Kildare',\n",
       "       'Athy Town', 'Naas Town', 'Leixlip', 'Newbridge (Droichead Nua)',\n",
       "       'Rest of Co. Kildare', 'Kilkenny', 'Kilkenny Borough',\n",
       "       'Rest of Co. Kilkenny', 'Laois', 'Mountmellick', 'Portlaoise',\n",
       "       'Rest of Co. Laois', 'Longford', 'Longford town', 'Granard',\n",
       "       'Rest of Co. Longford', 'Louth', 'Drogheda Borough',\n",
       "       'Dundalk Town', 'Ardee', 'Rest of Co. Louth', 'Meath',\n",
       "       'Kells Town', 'Navan Town', 'Trim Town', 'Rest of Co. Meath',\n",
       "       'Offaly', 'Birr Town', 'Tullamore Town', 'Edenderry',\n",
       "       'Rest of Co. Offaly', 'Westmeath', 'Athlone Town', 'Mullingar',\n",
       "       'Rest of Co. Westmeath', 'Wexford', 'Enniscorthy Town',\n",
       "       'New Ross Town', 'Wexford Borough', 'Gorey', 'Rest of Co. Wexford',\n",
       "       'Munster', 'Waterford County', 'Dungarvan Town', 'Lismore',\n",
       "       'Tramore', 'Rest of Waterford', 'Waterford City', 'Clare',\n",
       "       'Ennis Town', 'Kilrush Town', 'Shannon', 'Kilkee',\n",
       "       'Rest of Co. Clare', 'Cork City', 'Cork County', 'Cobh Town',\n",
       "       'Fermoy Town', 'Kinsale Town', 'Midleton Town', 'Youghal Town',\n",
       "       'Clonakilty Town', 'Skibbereen Town', 'Macroom Town',\n",
       "       'Mallow Town', 'Rest of Co. Cork', 'Passage West', 'Bandon',\n",
       "       'Bantry', 'Kerry', 'Killarney Town', 'Listowel Town',\n",
       "       'Tralee Town', 'Rest of Co. Kerry', 'Limerick City',\n",
       "       'Limerick County', 'North Tipperary', 'Nenagh Town',\n",
       "       'Templemore Town', 'Thurles Town', 'Rest of North Tipperary',\n",
       "       'South Tipperary', 'Carrick-on-Suir Town', 'Cashel Town',\n",
       "       'Clonmel Borough', 'Tipperary Town', 'Tipperary',\n",
       "       'Rest of Co Tipperary', 'Rest of South Tipperary', 'Connacht',\n",
       "       'Galway City', 'Leitrim', 'Mayo', 'Ballina Town', 'Castlebar Town',\n",
       "       'Westport Town', 'Rest of Co. Mayo', 'Roscommon', 'Boyle',\n",
       "       'Rest of Co. Roscommon', 'Sligo', 'Sligo Borough',\n",
       "       'Rest of Co. Sligo', 'Galway County', 'Ballinasloe Town',\n",
       "       'Loughrea', 'Tuam', 'Rest of Co. Galway', 'Ulster (pt)', 'Cavan',\n",
       "       'Cavan Town', 'Belturbet', 'Cootehill', 'Rest of Co. Cavan',\n",
       "       'Donegal', 'Buncrana Town', 'Bundoran Town', 'Letterkenny Town',\n",
       "       'Ballyshannon', 'Rest of Co. Donegal', 'Monaghan',\n",
       "       'Carrickmacross Town', 'Castleblaney Town', 'Clones Town',\n",
       "       'Monaghan Town', 'Ballybay', 'Rest of Co. Monaghan',\n",
       "       'Outside the ROI Total'], dtype=object)"
      ]
     },
     "execution_count": 11,
     "metadata": {},
     "output_type": "execute_result"
    }
   ],
   "source": [
    "df['Area_of_Residence'].unique()# includes Provinces, counties and smaller areas, as well as Ireland total "
   ]
  },
  {
   "cell_type": "markdown",
   "metadata": {},
   "source": [
    "## Check for duplicates"
   ]
  },
  {
   "cell_type": "code",
   "execution_count": 12,
   "metadata": {},
   "outputs": [
    {
     "name": "stdout",
     "output_type": "stream",
     "text": [
      "number of duplicate rows:  (0, 5)\n"
     ]
    }
   ],
   "source": [
    "duplicate_rows_df = df[df.duplicated()]\n",
    "print(\"number of duplicate rows: \", duplicate_rows_df.shape)"
   ]
  },
  {
   "cell_type": "markdown",
   "metadata": {},
   "source": [
    "There are no duplicates"
   ]
  },
  {
   "cell_type": "code",
   "execution_count": 13,
   "metadata": {},
   "outputs": [
    {
     "name": "stdout",
     "output_type": "stream",
     "text": [
      "Year                     0\n",
      "Area_of_Residence        0\n",
      "Sex                      0\n",
      "Age_at_Death             0\n",
      "VALUE                52331\n",
      "dtype: int64\n"
     ]
    }
   ],
   "source": [
    "print(df.isnull().sum())"
   ]
  },
  {
   "cell_type": "markdown",
   "metadata": {},
   "source": [
    "We can see that the \"Value\" column contains a large amount of null values. It is worth exploring whether these are missed readings or zero readings. "
   ]
  },
  {
   "cell_type": "code",
   "execution_count": 14,
   "metadata": {},
   "outputs": [
    {
     "data": {
      "text/plain": [
       "Year                     0\n",
       "Area_of_Residence        0\n",
       "Sex                      0\n",
       "Age_at_Death             0\n",
       "VALUE                10763\n",
       "dtype: int64"
      ]
     },
     "execution_count": 14,
     "metadata": {},
     "output_type": "execute_result"
    }
   ],
   "source": [
    "df.eq(0).sum() #show is Valaue 0 occurs in dataset"
   ]
  },
  {
   "cell_type": "markdown",
   "metadata": {},
   "source": [
    "There is a notable amount of zeroes in the Value column. Check if there seems to be any pattern in the missed values."
   ]
  },
  {
   "cell_type": "code",
   "execution_count": 15,
   "metadata": {},
   "outputs": [],
   "source": [
    "zero_deaths = df[df['VALUE'] == 0] #create dataset only containing the 0 values"
   ]
  },
  {
   "cell_type": "code",
   "execution_count": 16,
   "metadata": {},
   "outputs": [
    {
     "data": {
      "text/plain": [
       "array(['5 - 9 years', '10 - 14 years', '1 - 4 years', 'Under 1 year',\n",
       "       '15 - 19 years', '40 - 44 years', '25 - 29 years', '45 - 49 years',\n",
       "       '20 - 24 years', '30 - 34 years', '50 - 54 years', '35 - 39 years',\n",
       "       '55 - 59 years', '60 - 64 years', '70 - 74 years', '65 - 69 years',\n",
       "       '75 - 79 years', '80 - 84 years', '85 years and over'],\n",
       "      dtype=object)"
      ]
     },
     "execution_count": 16,
     "metadata": {},
     "output_type": "execute_result"
    }
   ],
   "source": [
    "zero_deaths['Age_at_Death'].unique() "
   ]
  },
  {
   "cell_type": "markdown",
   "metadata": {},
   "source": [
    "0 deaths seems to occur in all date ranges. And below we can see that even in an age range that has 0s, null values are found."
   ]
  },
  {
   "cell_type": "code",
   "execution_count": 17,
   "metadata": {},
   "outputs": [
    {
     "data": {
      "text/html": [
       "<div>\n",
       "<style scoped>\n",
       "    .dataframe tbody tr th:only-of-type {\n",
       "        vertical-align: middle;\n",
       "    }\n",
       "\n",
       "    .dataframe tbody tr th {\n",
       "        vertical-align: top;\n",
       "    }\n",
       "\n",
       "    .dataframe thead th {\n",
       "        text-align: right;\n",
       "    }\n",
       "</style>\n",
       "<table border=\"1\" class=\"dataframe\">\n",
       "  <thead>\n",
       "    <tr style=\"text-align: right;\">\n",
       "      <th></th>\n",
       "      <th>Year</th>\n",
       "      <th>Area_of_Residence</th>\n",
       "      <th>Sex</th>\n",
       "      <th>Age_at_Death</th>\n",
       "      <th>VALUE</th>\n",
       "    </tr>\n",
       "  </thead>\n",
       "  <tbody>\n",
       "    <tr>\n",
       "      <td>540</td>\n",
       "      <td>2007</td>\n",
       "      <td>Arklow Town</td>\n",
       "      <td>Both sexes</td>\n",
       "      <td>Under 1 year</td>\n",
       "      <td>0.0</td>\n",
       "    </tr>\n",
       "    <tr>\n",
       "      <td>560</td>\n",
       "      <td>2007</td>\n",
       "      <td>Arklow Town</td>\n",
       "      <td>Male</td>\n",
       "      <td>Under 1 year</td>\n",
       "      <td>0.0</td>\n",
       "    </tr>\n",
       "    <tr>\n",
       "      <td>580</td>\n",
       "      <td>2007</td>\n",
       "      <td>Arklow Town</td>\n",
       "      <td>Female</td>\n",
       "      <td>Under 1 year</td>\n",
       "      <td>0.0</td>\n",
       "    </tr>\n",
       "    <tr>\n",
       "      <td>640</td>\n",
       "      <td>2007</td>\n",
       "      <td>Bray Town</td>\n",
       "      <td>Female</td>\n",
       "      <td>Under 1 year</td>\n",
       "      <td>0.0</td>\n",
       "    </tr>\n",
       "    <tr>\n",
       "      <td>900</td>\n",
       "      <td>2007</td>\n",
       "      <td>Carlow Town</td>\n",
       "      <td>Both sexes</td>\n",
       "      <td>Under 1 year</td>\n",
       "      <td>0.0</td>\n",
       "    </tr>\n",
       "    <tr>\n",
       "      <td>...</td>\n",
       "      <td>...</td>\n",
       "      <td>...</td>\n",
       "      <td>...</td>\n",
       "      <td>...</td>\n",
       "      <td>...</td>\n",
       "    </tr>\n",
       "    <tr>\n",
       "      <td>113540</td>\n",
       "      <td>2019</td>\n",
       "      <td>Cavan</td>\n",
       "      <td>Male</td>\n",
       "      <td>Under 1 year</td>\n",
       "      <td>0.0</td>\n",
       "    </tr>\n",
       "    <tr>\n",
       "      <td>113560</td>\n",
       "      <td>2019</td>\n",
       "      <td>Cavan</td>\n",
       "      <td>Female</td>\n",
       "      <td>Under 1 year</td>\n",
       "      <td>0.0</td>\n",
       "    </tr>\n",
       "    <tr>\n",
       "      <td>114180</td>\n",
       "      <td>2019</td>\n",
       "      <td>Monaghan</td>\n",
       "      <td>Both sexes</td>\n",
       "      <td>Under 1 year</td>\n",
       "      <td>0.0</td>\n",
       "    </tr>\n",
       "    <tr>\n",
       "      <td>114200</td>\n",
       "      <td>2019</td>\n",
       "      <td>Monaghan</td>\n",
       "      <td>Male</td>\n",
       "      <td>Under 1 year</td>\n",
       "      <td>0.0</td>\n",
       "    </tr>\n",
       "    <tr>\n",
       "      <td>114220</td>\n",
       "      <td>2019</td>\n",
       "      <td>Monaghan</td>\n",
       "      <td>Female</td>\n",
       "      <td>Under 1 year</td>\n",
       "      <td>0.0</td>\n",
       "    </tr>\n",
       "  </tbody>\n",
       "</table>\n",
       "<p>733 rows × 5 columns</p>\n",
       "</div>"
      ],
      "text/plain": [
       "        Year Area_of_Residence         Sex  Age_at_Death  VALUE\n",
       "540     2007       Arklow Town  Both sexes  Under 1 year    0.0\n",
       "560     2007       Arklow Town        Male  Under 1 year    0.0\n",
       "580     2007       Arklow Town      Female  Under 1 year    0.0\n",
       "640     2007         Bray Town      Female  Under 1 year    0.0\n",
       "900     2007       Carlow Town  Both sexes  Under 1 year    0.0\n",
       "...      ...               ...         ...           ...    ...\n",
       "113540  2019             Cavan        Male  Under 1 year    0.0\n",
       "113560  2019             Cavan      Female  Under 1 year    0.0\n",
       "114180  2019          Monaghan  Both sexes  Under 1 year    0.0\n",
       "114200  2019          Monaghan        Male  Under 1 year    0.0\n",
       "114220  2019          Monaghan      Female  Under 1 year    0.0\n",
       "\n",
       "[733 rows x 5 columns]"
      ]
     },
     "execution_count": 17,
     "metadata": {},
     "output_type": "execute_result"
    }
   ],
   "source": [
    "zero_deaths[zero_deaths['Age_at_Death'] == 'Under 1 year'] #show 0 values for a certain age range"
   ]
  },
  {
   "cell_type": "markdown",
   "metadata": {},
   "source": [
    "0 appear across all age ranges. "
   ]
  },
  {
   "cell_type": "markdown",
   "metadata": {},
   "source": [
    "## Check null values"
   ]
  },
  {
   "cell_type": "code",
   "execution_count": 18,
   "metadata": {},
   "outputs": [],
   "source": [
    "null_deaths = df[df['VALUE'].isna()] #dataset only with null values"
   ]
  },
  {
   "cell_type": "code",
   "execution_count": 19,
   "metadata": {},
   "outputs": [
    {
     "data": {
      "text/plain": [
       "array(['Both sexes', 'Male', 'Female'], dtype=object)"
      ]
     },
     "execution_count": 19,
     "metadata": {},
     "output_type": "execute_result"
    }
   ],
   "source": [
    "null_deaths['Sex'].unique()"
   ]
  },
  {
   "cell_type": "code",
   "execution_count": 20,
   "metadata": {},
   "outputs": [
    {
     "data": {
      "text/plain": [
       "array(['Balbriggan', 'Rest of Fingal', 'Greystones',\n",
       "       'Bagenalstown (Muine Bheag)', 'Leixlip',\n",
       "       'Newbridge (Droichead Nua)', 'Mountmellick', 'Portlaoise',\n",
       "       'Rest of Co. Laois', 'Granard', 'Ardee', 'Edenderry', 'Mullingar',\n",
       "       'Gorey', 'Lismore', 'Tramore', 'Shannon', 'Kilkee', 'Passage West',\n",
       "       'Bandon', 'Bantry', 'Tipperary', 'Rest of Co Tipperary', 'Boyle',\n",
       "       'Rest of Co. Roscommon', 'Loughrea', 'Tuam', 'Belturbet',\n",
       "       'Cootehill', 'Ballyshannon', 'Ballybay', 'Outside the ROI Total',\n",
       "       'Dublin City', 'Fingal', 'Dun Laoghaire Rathdown', 'South Dublin',\n",
       "       'Wicklow', 'Arklow Town', 'Bray Town', 'Wicklow Town',\n",
       "       'Rest of Wicklow', 'Carlow', 'Carlow Town', 'Rest of Co. Carlow',\n",
       "       'Kildare', 'Athy Town', 'Naas Town', 'Rest of Co. Kildare',\n",
       "       'Kilkenny', 'Kilkenny Borough', 'Rest of Co. Kilkenny', 'Laois',\n",
       "       'Longford', 'Longford town', 'Rest of Co. Longford', 'Louth',\n",
       "       'Drogheda Borough', 'Dundalk Town', 'Rest of Co. Louth', 'Meath',\n",
       "       'Kells Town', 'Navan Town', 'Trim Town', 'Rest of Co. Meath',\n",
       "       'Offaly', 'Birr Town', 'Tullamore Town', 'Rest of Co. Offaly',\n",
       "       'Westmeath', 'Athlone Town', 'Rest of Co. Westmeath', 'Wexford',\n",
       "       'Enniscorthy Town', 'New Ross Town', 'Wexford Borough',\n",
       "       'Rest of Co. Wexford', 'Waterford County', 'Dungarvan Town',\n",
       "       'Rest of Waterford', 'Waterford City', 'Clare', 'Ennis Town',\n",
       "       'Kilrush Town', 'Rest of Co. Clare', 'Cork City', 'Cork County',\n",
       "       'Cobh Town', 'Fermoy Town', 'Kinsale Town', 'Midleton Town',\n",
       "       'Youghal Town', 'Clonakilty Town', 'Skibbereen Town',\n",
       "       'Macroom Town', 'Mallow Town', 'Rest of Co. Cork', 'Kerry',\n",
       "       'Killarney Town', 'Listowel Town', 'Tralee Town',\n",
       "       'Rest of Co. Kerry', 'Limerick City', 'Limerick County',\n",
       "       'North Tipperary', 'Nenagh Town', 'Templemore Town',\n",
       "       'Thurles Town', 'Rest of North Tipperary', 'South Tipperary',\n",
       "       'Carrick-on-Suir Town', 'Cashel Town', 'Clonmel Borough',\n",
       "       'Tipperary Town', 'Rest of South Tipperary', 'Connacht',\n",
       "       'Galway City', 'Leitrim', 'Mayo', 'Ballina Town', 'Castlebar Town',\n",
       "       'Westport Town', 'Rest of Co. Mayo', 'Roscommon', 'Sligo',\n",
       "       'Sligo Borough', 'Rest of Co. Sligo', 'Galway County',\n",
       "       'Ballinasloe Town', 'Rest of Co. Galway', 'Ulster (pt)', 'Cavan',\n",
       "       'Cavan Town', 'Rest of Co. Cavan', 'Donegal', 'Buncrana Town',\n",
       "       'Bundoran Town', 'Letterkenny Town', 'Rest of Co. Donegal',\n",
       "       'Monaghan', 'Carrickmacross Town', 'Castleblaney Town',\n",
       "       'Clones Town', 'Monaghan Town', 'Rest of Co. Monaghan', 'Munster',\n",
       "       'Leinster'], dtype=object)"
      ]
     },
     "execution_count": 20,
     "metadata": {},
     "output_type": "execute_result"
    }
   ],
   "source": [
    "null_deaths['Area_of_Residence'].unique()"
   ]
  },
  {
   "cell_type": "code",
   "execution_count": 21,
   "metadata": {},
   "outputs": [
    {
     "data": {
      "text/plain": [
       "array(['Under 1 year', '1 - 4 years', '5 - 9 years', '10 - 14 years',\n",
       "       '15 - 19 years', '20 - 24 years', '25 - 29 years', '30 - 34 years',\n",
       "       '35 - 39 years', '40 - 44 years', '45 - 49 years', '50 - 54 years',\n",
       "       '55 - 59 years', '60 - 64 years', '65 - 69 years', '70 - 74 years',\n",
       "       '75 - 79 years', '80 - 84 years', '85 years and over', 'All ages'],\n",
       "      dtype=object)"
      ]
     },
     "execution_count": 21,
     "metadata": {},
     "output_type": "execute_result"
    }
   ],
   "source": [
    "null_deaths['Age_at_Death'].unique()"
   ]
  },
  {
   "cell_type": "code",
   "execution_count": 22,
   "metadata": {},
   "outputs": [
    {
     "data": {
      "text/plain": [
       "array([2007, 2008, 2009, 2010, 2011, 2012, 2013, 2014, 2015, 2016, 2017,\n",
       "       2018, 2019, 2020], dtype=int64)"
      ]
     },
     "execution_count": 22,
     "metadata": {},
     "output_type": "execute_result"
    }
   ],
   "source": [
    "null_deaths['Year'].unique()"
   ]
  },
  {
   "cell_type": "markdown",
   "metadata": {},
   "source": [
    "Null values appear across all years, sexes, age ranges and are not restricted to particular characteristics. We can't just drop a certain characteristics. Dataset may be of limited value due to the large amount of null values across all characteristics"
   ]
  },
  {
   "cell_type": "code",
   "execution_count": 23,
   "metadata": {
    "scrolled": true
   },
   "outputs": [
    {
     "data": {
      "text/plain": [
       "Year                 71149\n",
       "Area_of_Residence    71149\n",
       "Sex                  71149\n",
       "Age_at_Death         71149\n",
       "VALUE                71149\n",
       "dtype: int64"
      ]
     },
     "execution_count": 23,
     "metadata": {},
     "output_type": "execute_result"
    }
   ],
   "source": [
    "df = df.dropna() #remove null values\n",
    "df.count()"
   ]
  },
  {
   "cell_type": "code",
   "execution_count": 24,
   "metadata": {},
   "outputs": [],
   "source": [
    "df.to_csv('Deaths_by_Region_withoutnullvalues.csv', index=False)"
   ]
  },
  {
   "cell_type": "markdown",
   "metadata": {},
   "source": [
    "## Focus on Area_of_Residence"
   ]
  },
  {
   "cell_type": "markdown",
   "metadata": {},
   "source": [
    "Area may include the ROI, counties or individual towns. This may lead to duplication and also makes it difficult to group the data."
   ]
  },
  {
   "cell_type": "code",
   "execution_count": 25,
   "metadata": {},
   "outputs": [
    {
     "data": {
      "text/html": [
       "<div>\n",
       "<style scoped>\n",
       "    .dataframe tbody tr th:only-of-type {\n",
       "        vertical-align: middle;\n",
       "    }\n",
       "\n",
       "    .dataframe tbody tr th {\n",
       "        vertical-align: top;\n",
       "    }\n",
       "\n",
       "    .dataframe thead th {\n",
       "        text-align: right;\n",
       "    }\n",
       "</style>\n",
       "<table border=\"1\" class=\"dataframe\">\n",
       "  <thead>\n",
       "    <tr style=\"text-align: right;\">\n",
       "      <th></th>\n",
       "      <th>Year</th>\n",
       "      <th>Area_of_Residence</th>\n",
       "      <th>Sex</th>\n",
       "      <th>Age_at_Death</th>\n",
       "      <th>VALUE</th>\n",
       "    </tr>\n",
       "  </thead>\n",
       "  <tbody>\n",
       "    <tr>\n",
       "      <td>0</td>\n",
       "      <td>2007</td>\n",
       "      <td>ROI Total</td>\n",
       "      <td>Both sexes</td>\n",
       "      <td>Under 1 year</td>\n",
       "      <td>230.0</td>\n",
       "    </tr>\n",
       "  </tbody>\n",
       "</table>\n",
       "</div>"
      ],
      "text/plain": [
       "   Year Area_of_Residence         Sex  Age_at_Death  VALUE\n",
       "0  2007         ROI Total  Both sexes  Under 1 year  230.0"
      ]
     },
     "execution_count": 25,
     "metadata": {},
     "output_type": "execute_result"
    }
   ],
   "source": [
    "df.head(1)"
   ]
  },
  {
   "cell_type": "code",
   "execution_count": 26,
   "metadata": {},
   "outputs": [
    {
     "data": {
      "text/plain": [
       "array(['ROI Total', 'Dublin City', 'Fingal', 'Dun Laoghaire Rathdown',\n",
       "       'South Dublin', 'Leinster', 'Wicklow', 'Arklow Town', 'Bray Town',\n",
       "       'Wicklow Town', 'Rest of Wicklow', 'Carlow', 'Carlow Town',\n",
       "       'Rest of Co. Carlow', 'Kildare', 'Athy Town', 'Naas Town',\n",
       "       'Rest of Co. Kildare', 'Kilkenny', 'Kilkenny Borough',\n",
       "       'Rest of Co. Kilkenny', 'Laois', 'Longford', 'Longford town',\n",
       "       'Rest of Co. Longford', 'Louth', 'Drogheda Borough',\n",
       "       'Dundalk Town', 'Rest of Co. Louth', 'Meath', 'Kells Town',\n",
       "       'Navan Town', 'Trim Town', 'Rest of Co. Meath', 'Offaly',\n",
       "       'Birr Town', 'Tullamore Town', 'Rest of Co. Offaly', 'Westmeath',\n",
       "       'Athlone Town', 'Rest of Co. Westmeath', 'Wexford',\n",
       "       'Enniscorthy Town', 'New Ross Town', 'Wexford Borough',\n",
       "       'Rest of Co. Wexford', 'Munster', 'Waterford County',\n",
       "       'Dungarvan Town', 'Rest of Waterford', 'Waterford City', 'Clare',\n",
       "       'Ennis Town', 'Kilrush Town', 'Rest of Co. Clare', 'Cork City',\n",
       "       'Cork County', 'Cobh Town', 'Fermoy Town', 'Kinsale Town',\n",
       "       'Midleton Town', 'Youghal Town', 'Clonakilty Town',\n",
       "       'Skibbereen Town', 'Macroom Town', 'Mallow Town',\n",
       "       'Rest of Co. Cork', 'Kerry', 'Killarney Town', 'Listowel Town',\n",
       "       'Tralee Town', 'Rest of Co. Kerry', 'Limerick City',\n",
       "       'Limerick County', 'North Tipperary', 'Nenagh Town',\n",
       "       'Templemore Town', 'Thurles Town', 'Rest of North Tipperary',\n",
       "       'South Tipperary', 'Carrick-on-Suir Town', 'Cashel Town',\n",
       "       'Clonmel Borough', 'Tipperary Town', 'Rest of South Tipperary',\n",
       "       'Connacht', 'Galway City', 'Leitrim', 'Mayo', 'Ballina Town',\n",
       "       'Castlebar Town', 'Westport Town', 'Rest of Co. Mayo', 'Roscommon',\n",
       "       'Sligo', 'Sligo Borough', 'Rest of Co. Sligo', 'Galway County',\n",
       "       'Ballinasloe Town', 'Rest of Co. Galway', 'Ulster (pt)', 'Cavan',\n",
       "       'Cavan Town', 'Rest of Co. Cavan', 'Donegal', 'Buncrana Town',\n",
       "       'Bundoran Town', 'Letterkenny Town', 'Rest of Co. Donegal',\n",
       "       'Monaghan', 'Carrickmacross Town', 'Castleblaney Town',\n",
       "       'Clones Town', 'Monaghan Town', 'Rest of Co. Monaghan',\n",
       "       'Balbriggan', 'Greystones', 'Bagenalstown (Muine Bheag)',\n",
       "       'Leixlip', 'Newbridge (Droichead Nua)', 'Mountmellick',\n",
       "       'Portlaoise', 'Rest of Co. Laois', 'Granard', 'Ardee', 'Edenderry',\n",
       "       'Mullingar', 'Gorey', 'Lismore', 'Tramore', 'Shannon', 'Kilkee',\n",
       "       'Passage West', 'Bandon', 'Bantry', 'Boyle',\n",
       "       'Rest of Co. Roscommon', 'Loughrea', 'Tuam', 'Belturbet',\n",
       "       'Cootehill', 'Ballyshannon', 'Ballybay', 'Rest of Fingal',\n",
       "       'Tipperary', 'Rest of Co Tipperary'], dtype=object)"
      ]
     },
     "execution_count": 26,
     "metadata": {},
     "output_type": "execute_result"
    }
   ],
   "source": [
    "df['Area_of_Residence'].unique()"
   ]
  },
  {
   "cell_type": "markdown",
   "metadata": {},
   "source": []
  },
  {
   "cell_type": "code",
   "execution_count": 27,
   "metadata": {},
   "outputs": [],
   "source": [
    "dropRes = ['ROI Total', 'Outside the ROI Total', 'Munster', 'Leinster', 'Connacht', 'Ulster (pt)', 'Carlow', 'Cavan', 'Clare', 'Cork', 'Donegal', 'Dublin', 'Galway', 'Kerry', 'Kildare', 'Kilkenny', 'Laois', 'Leitrim', 'Limerick', 'Longford', 'Louth', 'Mayo', 'Meath', 'Monaghan', 'Offaly', 'Roscommon', 'Sligo', 'Tipperary', 'Waterford', 'Westmeath', 'Wexford', 'Wicklow']\n",
    "Counties = ['Carlow', 'Cavan', 'Clare', 'Cork', 'Donegal', 'Dublin City', 'Galway', 'Kerry', 'Kildare', 'Kilkenny', 'Laois', 'Leitrim', 'Limerick', 'Longford', 'Louth', 'Mayo', 'Meath', 'Monaghan', 'Offaly', 'Roscommon', 'Sligo', 'Tipperary', 'Waterford', 'Westmeath', 'Wexford', 'Wicklow']\n",
    "Provinces = ['Munster', 'Leinster', 'Connacht', 'Ulster (pt)']\n",
    "dropSex = ['Male', 'Female']"
   ]
  },
  {
   "cell_type": "code",
   "execution_count": 28,
   "metadata": {},
   "outputs": [],
   "source": [
    "dfProvinces = df[df['Area_of_Residence'].isin(Provinces)] #only keep provinces\n",
    "dfProvinces = dfProvinces[dfProvinces['Sex'].isin(dropSex) == False] #drop both sexes\n",
    "dfProvinces = dfProvinces[dfProvinces['Age_at_Death'] == 'All ages'] # remove age ranges"
   ]
  },
  {
   "cell_type": "code",
   "execution_count": 29,
   "metadata": {},
   "outputs": [
    {
     "data": {
      "image/png": "[encoded data removed]",
      "text/plain": [
       "<Figure size 720x432 with 1 Axes>"
      ]
     },
     "metadata": {
      "needs_background": "light"
     },
     "output_type": "display_data"
    }
   ],
   "source": [
    "g = sns.relplot(\n",
    "    data=dfProvinces, x=\"Year\", y=\"VALUE\", hue=\"Area_of_Residence\",\n",
    "    kind=\"scatter\"\n",
    ")\n",
    "g.fig.set_figheight(6)\n",
    "g.fig.set_figwidth(10)"
   ]
  },
  {
   "cell_type": "code",
   "execution_count": 32,
   "metadata": {},
   "outputs": [],
   "source": [
    "dfProvinces.to_csv('Deaths_by_Region_provincelevel_aggregated.csv', index=False)"
   ]
  },
  {
   "cell_type": "code",
   "execution_count": null,
   "metadata": {},
   "outputs": [],
   "source": []
  }
 ],
 "metadata": {
  "kernelspec": {
   "display_name": "Python 3",
   "language": "python",
   "name": "python3"
  },
  "language_info": {
   "codemirror_mode": {
    "name": "ipython",
    "version": 3
   },
   "file_extension": ".py",
   "mimetype": "text/x-python",
   "name": "python",
   "nbconvert_exporter": "python",
   "pygments_lexer": "ipython3",
   "version": "3.7.4"
  }
 },
 "nbformat": 4,
 "nbformat_minor": 2
}
